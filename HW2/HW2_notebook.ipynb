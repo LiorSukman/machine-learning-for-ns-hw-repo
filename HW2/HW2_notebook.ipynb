{
 "cells": [
  {
   "cell_type": "markdown",
   "metadata": {},
   "source": [
    "# HW2"
   ]
  },
  {
   "cell_type": "markdown",
   "metadata": {},
   "source": [
    "Submitted by:\n",
    "Lior Sukman (ID 319124244)\n",
    "Efrat Kohen (ID 300385564)\n",
    "Mandy Rosemblaum (ID 305747230)\n"
   ]
  },
  {
   "cell_type": "code",
   "execution_count": 1,
   "metadata": {},
   "outputs": [],
   "source": [
    "import pandas as pd\n",
    "import numpy as np\n",
    "import matplotlib.pyplot as plt\n",
    "from sklearn.model_selection import train_test_split\n",
    "from sklearn.linear_model import LinearRegression, LogisticRegression\n",
    "from sklearn import metrics\n",
    "from sklearn.metrics import mean_squared_error, confusion_matrix, plot_confusion_matrix\n",
    "from math import sqrt"
   ]
  },
  {
   "cell_type": "code",
   "execution_count": 2,
   "metadata": {},
   "outputs": [],
   "source": [
    "df = pd.read_csv('journal.pone.0234552.s004.csv',index_col=0)"
   ]
  },
  {
   "cell_type": "code",
   "execution_count": 3,
   "metadata": {},
   "outputs": [
    {
     "data": {
      "text/html": [
       "<div>\n",
       "<style scoped>\n",
       "    .dataframe tbody tr th:only-of-type {\n",
       "        vertical-align: middle;\n",
       "    }\n",
       "\n",
       "    .dataframe tbody tr th {\n",
       "        vertical-align: top;\n",
       "    }\n",
       "\n",
       "    .dataframe thead th {\n",
       "        text-align: right;\n",
       "    }\n",
       "</style>\n",
       "<table border=\"1\" class=\"dataframe\">\n",
       "  <thead>\n",
       "    <tr style=\"text-align: right;\">\n",
       "      <th></th>\n",
       "      <th>BMI</th>\n",
       "      <th>RFM</th>\n",
       "      <th>AFM</th>\n",
       "      <th>SMM</th>\n",
       "      <th>Waist circumference</th>\n",
       "      <th>Weight_value-1</th>\n",
       "      <th>Height_value-1</th>\n",
       "      <th>Visc</th>\n",
       "      <th>Body height</th>\n",
       "      <th>Head height</th>\n",
       "      <th>...</th>\n",
       "      <th>Volume Hand Right</th>\n",
       "      <th>Volume Thigh Left</th>\n",
       "      <th>Volume Thigh Right</th>\n",
       "      <th>Volume Lower Leg Left</th>\n",
       "      <th>Volume Lower Leg Right</th>\n",
       "      <th>Volume Foot Left</th>\n",
       "      <th>Volume Foot Right</th>\n",
       "      <th>Volume Chest</th>\n",
       "      <th>Volume Belly</th>\n",
       "      <th>Volume Hip</th>\n",
       "    </tr>\n",
       "    <tr>\n",
       "      <th>N</th>\n",
       "      <th></th>\n",
       "      <th></th>\n",
       "      <th></th>\n",
       "      <th></th>\n",
       "      <th></th>\n",
       "      <th></th>\n",
       "      <th></th>\n",
       "      <th></th>\n",
       "      <th></th>\n",
       "      <th></th>\n",
       "      <th></th>\n",
       "      <th></th>\n",
       "      <th></th>\n",
       "      <th></th>\n",
       "      <th></th>\n",
       "      <th></th>\n",
       "      <th></th>\n",
       "      <th></th>\n",
       "      <th></th>\n",
       "      <th></th>\n",
       "      <th></th>\n",
       "    </tr>\n",
       "  </thead>\n",
       "  <tbody>\n",
       "    <tr>\n",
       "      <th>1</th>\n",
       "      <td>20.13</td>\n",
       "      <td>5.66</td>\n",
       "      <td>3.89</td>\n",
       "      <td>30.95</td>\n",
       "      <td>0.80</td>\n",
       "      <td>68.60</td>\n",
       "      <td>1.85</td>\n",
       "      <td>0.17</td>\n",
       "      <td>184.0</td>\n",
       "      <td>24.8</td>\n",
       "      <td>...</td>\n",
       "      <td>0.466</td>\n",
       "      <td>5.926</td>\n",
       "      <td>5.739</td>\n",
       "      <td>2.878</td>\n",
       "      <td>2.841</td>\n",
       "      <td>1.264</td>\n",
       "      <td>1.223</td>\n",
       "      <td>17.816</td>\n",
       "      <td>6.020</td>\n",
       "      <td>14.146</td>\n",
       "    </tr>\n",
       "    <tr>\n",
       "      <th>2</th>\n",
       "      <td>18.35</td>\n",
       "      <td>9.79</td>\n",
       "      <td>5.30</td>\n",
       "      <td>22.65</td>\n",
       "      <td>0.71</td>\n",
       "      <td>54.10</td>\n",
       "      <td>1.72</td>\n",
       "      <td>0.46</td>\n",
       "      <td>170.8</td>\n",
       "      <td>24.1</td>\n",
       "      <td>...</td>\n",
       "      <td>0.329</td>\n",
       "      <td>5.106</td>\n",
       "      <td>5.066</td>\n",
       "      <td>2.064</td>\n",
       "      <td>2.071</td>\n",
       "      <td>0.947</td>\n",
       "      <td>0.921</td>\n",
       "      <td>13.792</td>\n",
       "      <td>4.477</td>\n",
       "      <td>10.860</td>\n",
       "    </tr>\n",
       "    <tr>\n",
       "      <th>3</th>\n",
       "      <td>22.11</td>\n",
       "      <td>9.63</td>\n",
       "      <td>6.31</td>\n",
       "      <td>29.26</td>\n",
       "      <td>0.76</td>\n",
       "      <td>65.55</td>\n",
       "      <td>1.72</td>\n",
       "      <td>0.38</td>\n",
       "      <td>171.5</td>\n",
       "      <td>23.7</td>\n",
       "      <td>...</td>\n",
       "      <td>NaN</td>\n",
       "      <td>5.850</td>\n",
       "      <td>6.040</td>\n",
       "      <td>2.478</td>\n",
       "      <td>2.489</td>\n",
       "      <td>1.075</td>\n",
       "      <td>1.037</td>\n",
       "      <td>22.283</td>\n",
       "      <td>6.479</td>\n",
       "      <td>12.007</td>\n",
       "    </tr>\n",
       "    <tr>\n",
       "      <th>4</th>\n",
       "      <td>20.46</td>\n",
       "      <td>11.11</td>\n",
       "      <td>8.03</td>\n",
       "      <td>31.08</td>\n",
       "      <td>0.85</td>\n",
       "      <td>72.25</td>\n",
       "      <td>1.88</td>\n",
       "      <td>0.91</td>\n",
       "      <td>187.6</td>\n",
       "      <td>25.1</td>\n",
       "      <td>...</td>\n",
       "      <td>0.319</td>\n",
       "      <td>6.734</td>\n",
       "      <td>6.809</td>\n",
       "      <td>2.959</td>\n",
       "      <td>2.961</td>\n",
       "      <td>1.028</td>\n",
       "      <td>1.035</td>\n",
       "      <td>20.314</td>\n",
       "      <td>10.700</td>\n",
       "      <td>11.533</td>\n",
       "    </tr>\n",
       "    <tr>\n",
       "      <th>5</th>\n",
       "      <td>24.58</td>\n",
       "      <td>24.03</td>\n",
       "      <td>16.10</td>\n",
       "      <td>24.53</td>\n",
       "      <td>0.82</td>\n",
       "      <td>67.00</td>\n",
       "      <td>1.65</td>\n",
       "      <td>1.17</td>\n",
       "      <td>164.1</td>\n",
       "      <td>23.5</td>\n",
       "      <td>...</td>\n",
       "      <td>0.263</td>\n",
       "      <td>6.422</td>\n",
       "      <td>6.383</td>\n",
       "      <td>3.094</td>\n",
       "      <td>3.079</td>\n",
       "      <td>0.990</td>\n",
       "      <td>0.995</td>\n",
       "      <td>18.031</td>\n",
       "      <td>7.530</td>\n",
       "      <td>13.261</td>\n",
       "    </tr>\n",
       "    <tr>\n",
       "      <th>...</th>\n",
       "      <td>...</td>\n",
       "      <td>...</td>\n",
       "      <td>...</td>\n",
       "      <td>...</td>\n",
       "      <td>...</td>\n",
       "      <td>...</td>\n",
       "      <td>...</td>\n",
       "      <td>...</td>\n",
       "      <td>...</td>\n",
       "      <td>...</td>\n",
       "      <td>...</td>\n",
       "      <td>...</td>\n",
       "      <td>...</td>\n",
       "      <td>...</td>\n",
       "      <td>...</td>\n",
       "      <td>...</td>\n",
       "      <td>...</td>\n",
       "      <td>...</td>\n",
       "      <td>...</td>\n",
       "      <td>...</td>\n",
       "      <td>...</td>\n",
       "    </tr>\n",
       "    <tr>\n",
       "      <th>100</th>\n",
       "      <td>21.73</td>\n",
       "      <td>12.38</td>\n",
       "      <td>8.57</td>\n",
       "      <td>29.82</td>\n",
       "      <td>0.74</td>\n",
       "      <td>69.25</td>\n",
       "      <td>1.78</td>\n",
       "      <td>0.01</td>\n",
       "      <td>178.0</td>\n",
       "      <td>23.7</td>\n",
       "      <td>...</td>\n",
       "      <td>0.328</td>\n",
       "      <td>7.299</td>\n",
       "      <td>7.378</td>\n",
       "      <td>2.937</td>\n",
       "      <td>2.966</td>\n",
       "      <td>1.049</td>\n",
       "      <td>1.026</td>\n",
       "      <td>18.104</td>\n",
       "      <td>6.148</td>\n",
       "      <td>11.833</td>\n",
       "    </tr>\n",
       "    <tr>\n",
       "      <th>101</th>\n",
       "      <td>19.90</td>\n",
       "      <td>7.49</td>\n",
       "      <td>4.44</td>\n",
       "      <td>26.33</td>\n",
       "      <td>0.70</td>\n",
       "      <td>59.35</td>\n",
       "      <td>1.73</td>\n",
       "      <td>0.34</td>\n",
       "      <td>172.3</td>\n",
       "      <td>24.8</td>\n",
       "      <td>...</td>\n",
       "      <td>0.311</td>\n",
       "      <td>5.605</td>\n",
       "      <td>5.824</td>\n",
       "      <td>2.603</td>\n",
       "      <td>2.590</td>\n",
       "      <td>1.050</td>\n",
       "      <td>1.025</td>\n",
       "      <td>14.611</td>\n",
       "      <td>5.199</td>\n",
       "      <td>10.883</td>\n",
       "    </tr>\n",
       "    <tr>\n",
       "      <th>102</th>\n",
       "      <td>18.24</td>\n",
       "      <td>9.17</td>\n",
       "      <td>5.05</td>\n",
       "      <td>23.50</td>\n",
       "      <td>0.72</td>\n",
       "      <td>55.10</td>\n",
       "      <td>1.74</td>\n",
       "      <td>0.44</td>\n",
       "      <td>174.0</td>\n",
       "      <td>23.6</td>\n",
       "      <td>...</td>\n",
       "      <td>0.355</td>\n",
       "      <td>4.919</td>\n",
       "      <td>5.282</td>\n",
       "      <td>2.178</td>\n",
       "      <td>2.212</td>\n",
       "      <td>1.048</td>\n",
       "      <td>1.022</td>\n",
       "      <td>15.218</td>\n",
       "      <td>5.088</td>\n",
       "      <td>11.208</td>\n",
       "    </tr>\n",
       "    <tr>\n",
       "      <th>103</th>\n",
       "      <td>20.33</td>\n",
       "      <td>6.92</td>\n",
       "      <td>4.21</td>\n",
       "      <td>27.17</td>\n",
       "      <td>0.74</td>\n",
       "      <td>60.85</td>\n",
       "      <td>1.73</td>\n",
       "      <td>0.39</td>\n",
       "      <td>171.6</td>\n",
       "      <td>25.6</td>\n",
       "      <td>...</td>\n",
       "      <td>0.328</td>\n",
       "      <td>4.973</td>\n",
       "      <td>5.078</td>\n",
       "      <td>2.350</td>\n",
       "      <td>2.253</td>\n",
       "      <td>0.970</td>\n",
       "      <td>0.943</td>\n",
       "      <td>19.082</td>\n",
       "      <td>6.165</td>\n",
       "      <td>12.488</td>\n",
       "    </tr>\n",
       "    <tr>\n",
       "      <th>104</th>\n",
       "      <td>20.83</td>\n",
       "      <td>5.27</td>\n",
       "      <td>3.13</td>\n",
       "      <td>27.25</td>\n",
       "      <td>0.69</td>\n",
       "      <td>59.50</td>\n",
       "      <td>1.69</td>\n",
       "      <td>0.03</td>\n",
       "      <td>166.8</td>\n",
       "      <td>23.2</td>\n",
       "      <td>...</td>\n",
       "      <td>0.303</td>\n",
       "      <td>5.638</td>\n",
       "      <td>5.800</td>\n",
       "      <td>2.661</td>\n",
       "      <td>2.622</td>\n",
       "      <td>0.975</td>\n",
       "      <td>0.966</td>\n",
       "      <td>15.614</td>\n",
       "      <td>4.466</td>\n",
       "      <td>10.863</td>\n",
       "    </tr>\n",
       "  </tbody>\n",
       "</table>\n",
       "<p>104 rows × 176 columns</p>\n",
       "</div>"
      ],
      "text/plain": [
       "       BMI    RFM    AFM    SMM  Waist circumference  Weight_value-1  \\\n",
       "N                                                                      \n",
       "1    20.13   5.66   3.89  30.95                 0.80           68.60   \n",
       "2    18.35   9.79   5.30  22.65                 0.71           54.10   \n",
       "3    22.11   9.63   6.31  29.26                 0.76           65.55   \n",
       "4    20.46  11.11   8.03  31.08                 0.85           72.25   \n",
       "5    24.58  24.03  16.10  24.53                 0.82           67.00   \n",
       "..     ...    ...    ...    ...                  ...             ...   \n",
       "100  21.73  12.38   8.57  29.82                 0.74           69.25   \n",
       "101  19.90   7.49   4.44  26.33                 0.70           59.35   \n",
       "102  18.24   9.17   5.05  23.50                 0.72           55.10   \n",
       "103  20.33   6.92   4.21  27.17                 0.74           60.85   \n",
       "104  20.83   5.27   3.13  27.25                 0.69           59.50   \n",
       "\n",
       "     Height_value-1  Visc  Body height   Head height  ...  Volume Hand Right  \\\n",
       "N                                                     ...                      \n",
       "1              1.85  0.17         184.0         24.8  ...              0.466   \n",
       "2              1.72  0.46         170.8         24.1  ...              0.329   \n",
       "3              1.72  0.38         171.5         23.7  ...                NaN   \n",
       "4              1.88  0.91         187.6         25.1  ...              0.319   \n",
       "5              1.65  1.17         164.1         23.5  ...              0.263   \n",
       "..              ...   ...           ...          ...  ...                ...   \n",
       "100            1.78  0.01         178.0         23.7  ...              0.328   \n",
       "101            1.73  0.34         172.3         24.8  ...              0.311   \n",
       "102            1.74  0.44         174.0         23.6  ...              0.355   \n",
       "103            1.73  0.39         171.6         25.6  ...              0.328   \n",
       "104            1.69  0.03         166.8         23.2  ...              0.303   \n",
       "\n",
       "     Volume Thigh Left  Volume Thigh Right  Volume Lower Leg Left  \\\n",
       "N                                                                   \n",
       "1                5.926               5.739                  2.878   \n",
       "2                5.106               5.066                  2.064   \n",
       "3                5.850               6.040                  2.478   \n",
       "4                6.734               6.809                  2.959   \n",
       "5                6.422               6.383                  3.094   \n",
       "..                 ...                 ...                    ...   \n",
       "100              7.299               7.378                  2.937   \n",
       "101              5.605               5.824                  2.603   \n",
       "102              4.919               5.282                  2.178   \n",
       "103              4.973               5.078                  2.350   \n",
       "104              5.638               5.800                  2.661   \n",
       "\n",
       "     Volume Lower Leg Right  Volume Foot Left  Volume Foot Right  \\\n",
       "N                                                                  \n",
       "1                     2.841             1.264              1.223   \n",
       "2                     2.071             0.947              0.921   \n",
       "3                     2.489             1.075              1.037   \n",
       "4                     2.961             1.028              1.035   \n",
       "5                     3.079             0.990              0.995   \n",
       "..                      ...               ...                ...   \n",
       "100                   2.966             1.049              1.026   \n",
       "101                   2.590             1.050              1.025   \n",
       "102                   2.212             1.048              1.022   \n",
       "103                   2.253             0.970              0.943   \n",
       "104                   2.622             0.975              0.966   \n",
       "\n",
       "     Volume Chest  Volume Belly  Volume Hip  \n",
       "N                                            \n",
       "1          17.816         6.020      14.146  \n",
       "2          13.792         4.477      10.860  \n",
       "3          22.283         6.479      12.007  \n",
       "4          20.314        10.700      11.533  \n",
       "5          18.031         7.530      13.261  \n",
       "..            ...           ...         ...  \n",
       "100        18.104         6.148      11.833  \n",
       "101        14.611         5.199      10.883  \n",
       "102        15.218         5.088      11.208  \n",
       "103        19.082         6.165      12.488  \n",
       "104        15.614         4.466      10.863  \n",
       "\n",
       "[104 rows x 176 columns]"
      ]
     },
     "execution_count": 3,
     "metadata": {},
     "output_type": "execute_result"
    }
   ],
   "source": [
    "df"
   ]
  },
  {
   "cell_type": "code",
   "execution_count": 4,
   "metadata": {},
   "outputs": [
    {
     "name": "stdout",
     "output_type": "stream",
     "text": [
      "<class 'pandas.core.frame.DataFrame'>\n",
      "Int64Index: 104 entries, 1 to 104\n",
      "Data columns (total 176 columns):\n",
      "BMI                                                  104 non-null float64\n",
      "RFM                                                  104 non-null float64\n",
      "AFM                                                  104 non-null float64\n",
      "SMM                                                  104 non-null float64\n",
      "Waist circumference                                  104 non-null float64\n",
      "Weight_value-1                                       104 non-null float64\n",
      "Height_value-1                                       104 non-null float64\n",
      "Visc                                                 104 non-null float64\n",
      "Body height                                          104 non-null float64\n",
      "Head height                                          104 non-null float64\n",
      "Neck height                                          104 non-null float64\n",
      "Distance neck to buttock                             104 non-null float64\n",
      "Distance neck-knee                                   104 non-null float64\n",
      "Distance waist-knee                                  104 non-null float64\n",
      "Distance waistband-knee                              104 non-null float64\n",
      "Waistband height                                     104 non-null float64\n",
      "Waist height                                         104 non-null float64\n",
      "High waist height                                    104 non-null float64\n",
      "Buttock height                                       104 non-null float64\n",
      "Hip height                                           104 non-null float64\n",
      "Crotch height                                        104 non-null float64\n",
      "Knee height                                          104 non-null float64\n",
      "Ankle height                                         104 non-null float64\n",
      "Belly circumference height                           104 non-null float64\n",
      "Maximum belly circumference height                   104 non-null float64\n",
      "Height of shoulder blades                            104 non-null float64\n",
      "Breast height                                        104 non-null float64\n",
      "Neck height front                                    104 non-null float64\n",
      "Distance 7CV - vertical                              104 non-null float64\n",
      "Distance neck front to vertical                      104 non-null float64\n",
      "Distance scapula to vertical                         104 non-null float64\n",
      "Distance waist back to vertical                      104 non-null float64\n",
      "Distance buttock to vertical                         104 non-null float64\n",
      "Distance abdomen to vertical                         104 non-null float64\n",
      "Distance breast to vertical                          104 non-null float64\n",
      "Distance back in breast height to vertical           104 non-null float64\n",
      "Distance belly to vertical                           104 non-null float64\n",
      "Distance back in belly height to vertical            104 non-null float64\n",
      "waistband front to vertical                          104 non-null float64\n",
      "3D waistband front to vertical                       104 non-null float64\n",
      "waistband back to vertical                           104 non-null float64\n",
      "3D waistband back to vertical                        104 non-null float64\n",
      "Distance back in maximum belly height to vertical    104 non-null float64\n",
      "Distance maximum belly to vertical                   104 non-null float64\n",
      "Distance front in hip height to vertical             104 non-null float64\n",
      "Distance back in hip height to vertical              104 non-null float64\n",
      "waistband front height                               104 non-null float64\n",
      "3D waistband front height                            104 non-null float64\n",
      "waistband back height                                104 non-null float64\n",
      "3D waistband back height                             104 non-null float64\n",
      "3D waistband left to crotch                          104 non-null float64\n",
      "3D waistband right to crotch                         104 non-null float64\n",
      "Upper torso torsion                                  104 non-null float64\n",
      "Distance crotch to waistband                         104 non-null float64\n",
      "Neck diameter                                        104 non-null float64\n",
      "Mid neck girth                                       104 non-null float64\n",
      "Neck at base girth                                   104 non-null float64\n",
      "Head circumference                                   101 non-null float64\n",
      "Side upper torso length left                         104 non-null float64\n",
      "Side upper torso length right                        104 non-null float64\n",
      "Torso width at waist                                 104 non-null float64\n",
      "Total torso girth                                    103 non-null float64\n",
      "Cross shoulder over neck                             104 non-null float64\n",
      "Cross shoulder                                       104 non-null float64\n",
      "Shoulder width left                                  104 non-null float64\n",
      "Shoulder width right                                 104 non-null float64\n",
      "Shoulder angle left                                  104 non-null float64\n",
      "Shoulder angle right                                 104 non-null float64\n",
      "Across front width                                   104 non-null float64\n",
      "Width armpits                                        104 non-null float64\n",
      "Bust points width                                    101 non-null float64\n",
      "Neck right to waist over bust                        103 non-null float64\n",
      "Neck front to waist                                  104 non-null float64\n",
      "Neck front to waist over bust line                   101 non-null float64\n",
      "Bust points around neck                              101 non-null float64\n",
      "Bust point to neck left                              101 non-null float64\n",
      "Bust point to neck right                             103 non-null float64\n",
      "Bust/chest girth (horizontal)                        104 non-null float64\n",
      "Bust/chest girth                                     104 non-null float64\n",
      "Underbust circumference (horizontal)                 104 non-null float64\n",
      "Across back width                                    104 non-null float64\n",
      "Across back width (armpit level)                     104 non-null float64\n",
      "Neck to across back width (armpit level)             104 non-null float64\n",
      "Neck to waist center back                            104 non-null float64\n",
      "Neck left to waist back                              104 non-null float64\n",
      "Neck right to waist back                             104 non-null float64\n",
      "Distance across back width (armpit level) - waist    104 non-null float64\n",
      "Waist to high hip back                               104 non-null float64\n",
      "Distance waistband-high hip back                     104 non-null float64\n",
      "Waist to buttock                                     104 non-null float64\n",
      "Distance waistband - buttock                         104 non-null float64\n",
      "Crotch length                                        104 non-null float64\n",
      "Crotch length, front                                 104 non-null float64\n",
      "Crotch length, rear                                  104 non-null float64\n",
      "Crotch length at waistband                           104 non-null float64\n",
      "Crotch length at waistband A                         104 non-null float64\n",
      "Dev. waist band from waist (front)                   104 non-null float64\n",
      "Dev. waist band from waist (back)                    104 non-null float64\n",
      "Dev. waist band from waist (side)                    104 non-null float64\n",
      "WC                                                   104 non-null float64\n",
      "Middle Hip                                           104 non-null float64\n",
      "High waist girth                                     104 non-null float64\n",
      "Waist band                                           104 non-null float64\n",
      "3D waist band                                        104 non-null float64\n",
      "Waist to buttock height left                         104 non-null float64\n",
      "Waist to buttock height right                        104 non-null float64\n",
      "Waistband to buttock height left                     104 non-null float64\n",
      "Waistband to buttock height right                    104 non-null float64\n",
      "Waist to hip/thigh left                              104 non-null float64\n",
      "Waist to hip/thigh right                             104 non-null float64\n",
      "High hip girth                                       104 non-null float64\n",
      "Buttock girth                                        104 non-null float64\n",
      "Hip girth                                            104 non-null float64\n",
      "Hip/thigh girth                                      104 non-null float64\n",
      "Belly circumference                                  104 non-null float64\n",
      "Maximum belly circumference                          104 non-null float64\n",
      "Arm length to neck back left                         104 non-null float64\n",
      "Arm length to neck back right                        104 non-null float64\n",
      "Arm length to neck left                              104 non-null float64\n",
      "Arm length to neck right                             104 non-null float64\n",
      "Arm length left                                      104 non-null float64\n",
      "Arm length right                                     104 non-null float64\n",
      "Upper arm length left                                104 non-null float64\n",
      "Upper arm length right                               104 non-null float64\n",
      "Forearm length left                                  104 non-null float64\n",
      "Forearm length right                                 104 non-null float64\n",
      "Upper arm girth left                                 104 non-null float64\n",
      "Upper arm girth right                                104 non-null float64\n",
      "Elbow girth left                                     104 non-null float64\n",
      "Elbow girth right                                    104 non-null float64\n",
      "Forearm girth left                                   104 non-null float64\n",
      "Forearm girth right                                  104 non-null float64\n",
      "Wrist girth left                                     104 non-null float64\n",
      "Wrist girth right                                    102 non-null float64\n",
      "Wrist girth                                          104 non-null float64\n",
      "Upper arm diameter left                              104 non-null float64\n",
      "Upper arm diameter right                             104 non-null float64\n",
      "Inside leg-ankle left                                104 non-null float64\n",
      "Inside leg-ankle right                               104 non-null float64\n",
      "Inseam left                                          104 non-null float64\n",
      "Inseam right                                         104 non-null float64\n",
      "Sideseam left                                        104 non-null float64\n",
      "Sideseam right                                       104 non-null float64\n",
      "sideseam 3D waistband left                           104 non-null float64\n",
      "sideseam 3D waistband right                          104 non-null float64\n",
      "Sideseam at waist left                               104 non-null float64\n",
      "Sideseam at waist right                              104 non-null float64\n",
      "Sideseam ankle left                                  104 non-null float64\n",
      "Sideseam ankle right                                 104 non-null float64\n",
      "Thigh girth left (horizontal)                        104 non-null float64\n",
      "Thigh girth right (horizontal)                       104 non-null float64\n",
      "Knee girth left                                      104 non-null float64\n",
      "Knee girth right                                     104 non-null float64\n",
      "calf girth left                                      104 non-null float64\n",
      "calf girth right                                     104 non-null float64\n",
      "Ankle girth left                                     104 non-null float64\n",
      "Ankle girth right                                    104 non-null float64\n",
      "min. leg girth left                                  104 non-null float64\n",
      "min. leg girth right                                 104 non-null float64\n",
      "_Overview Volume                                     104 non-null float64\n",
      "Volume Head                                          104 non-null float64\n",
      "Volume Upperarm Left                                 102 non-null float64\n",
      "Volume Upperarm Right                                103 non-null float64\n",
      "Volume Forearm Left                                  102 non-null float64\n",
      "Volume Forearm Right                                 103 non-null float64\n",
      "Volume Hand Left                                     102 non-null float64\n",
      "Volume Hand Right                                    103 non-null float64\n",
      "Volume Thigh Left                                    104 non-null float64\n",
      "Volume Thigh Right                                   104 non-null float64\n",
      "Volume Lower Leg Left                                104 non-null float64\n",
      "Volume Lower Leg Right                               104 non-null float64\n",
      "Volume Foot Left                                     104 non-null float64\n",
      "Volume Foot Right                                    104 non-null float64\n",
      "Volume Chest                                         104 non-null float64\n",
      "Volume Belly                                         104 non-null float64\n",
      "Volume Hip                                           104 non-null float64\n",
      "dtypes: float64(176)\n",
      "memory usage: 143.8 KB\n"
     ]
    }
   ],
   "source": [
    "df.info(verbose=True, null_counts=True)"
   ]
  },
  {
   "cell_type": "markdown",
   "metadata": {},
   "source": [
    "## Q1"
   ]
  },
  {
   "cell_type": "code",
   "execution_count": 5,
   "metadata": {},
   "outputs": [
    {
     "name": "stdout",
     "output_type": "stream",
     "text": [
      "<class 'pandas.core.frame.DataFrame'>\n",
      "Int64Index: 104 entries, 1 to 104\n",
      "Data columns (total 4 columns):\n",
      "WHtR                   104 non-null float64\n",
      "Visc                   104 non-null float64\n",
      "BMI                    104 non-null float64\n",
      "Waist circumference    104 non-null float64\n",
      "dtypes: float64(4)\n",
      "memory usage: 4.1 KB\n"
     ]
    }
   ],
   "source": [
    "#Build DF of the required columns\n",
    "data = df[['Visc','BMI','Waist circumference', 'Height_value-1']]\n",
    "data.insert(0, 'WHtR', data.loc[:,'Waist circumference']/df.loc[:,'Height_value-1'])\n",
    "data = data.drop(columns=['Height_value-1'])\n",
    "data.info()"
   ]
  },
  {
   "cell_type": "code",
   "execution_count": 6,
   "metadata": {
    "scrolled": true
   },
   "outputs": [
    {
     "data": {
      "text/html": [
       "<div>\n",
       "<style scoped>\n",
       "    .dataframe tbody tr th:only-of-type {\n",
       "        vertical-align: middle;\n",
       "    }\n",
       "\n",
       "    .dataframe tbody tr th {\n",
       "        vertical-align: top;\n",
       "    }\n",
       "\n",
       "    .dataframe thead th {\n",
       "        text-align: right;\n",
       "    }\n",
       "</style>\n",
       "<table border=\"1\" class=\"dataframe\">\n",
       "  <thead>\n",
       "    <tr style=\"text-align: right;\">\n",
       "      <th></th>\n",
       "      <th>WHtR</th>\n",
       "      <th>Visc</th>\n",
       "      <th>BMI</th>\n",
       "      <th>Waist circumference</th>\n",
       "    </tr>\n",
       "    <tr>\n",
       "      <th>N</th>\n",
       "      <th></th>\n",
       "      <th></th>\n",
       "      <th></th>\n",
       "      <th></th>\n",
       "    </tr>\n",
       "  </thead>\n",
       "  <tbody>\n",
       "    <tr>\n",
       "      <th>1</th>\n",
       "      <td>0.432432</td>\n",
       "      <td>0.17</td>\n",
       "      <td>20.13</td>\n",
       "      <td>0.80</td>\n",
       "    </tr>\n",
       "    <tr>\n",
       "      <th>2</th>\n",
       "      <td>0.412791</td>\n",
       "      <td>0.46</td>\n",
       "      <td>18.35</td>\n",
       "      <td>0.71</td>\n",
       "    </tr>\n",
       "    <tr>\n",
       "      <th>3</th>\n",
       "      <td>0.441860</td>\n",
       "      <td>0.38</td>\n",
       "      <td>22.11</td>\n",
       "      <td>0.76</td>\n",
       "    </tr>\n",
       "    <tr>\n",
       "      <th>4</th>\n",
       "      <td>0.452128</td>\n",
       "      <td>0.91</td>\n",
       "      <td>20.46</td>\n",
       "      <td>0.85</td>\n",
       "    </tr>\n",
       "    <tr>\n",
       "      <th>5</th>\n",
       "      <td>0.496970</td>\n",
       "      <td>1.17</td>\n",
       "      <td>24.58</td>\n",
       "      <td>0.82</td>\n",
       "    </tr>\n",
       "    <tr>\n",
       "      <th>...</th>\n",
       "      <td>...</td>\n",
       "      <td>...</td>\n",
       "      <td>...</td>\n",
       "      <td>...</td>\n",
       "    </tr>\n",
       "    <tr>\n",
       "      <th>100</th>\n",
       "      <td>0.415730</td>\n",
       "      <td>0.01</td>\n",
       "      <td>21.73</td>\n",
       "      <td>0.74</td>\n",
       "    </tr>\n",
       "    <tr>\n",
       "      <th>101</th>\n",
       "      <td>0.404624</td>\n",
       "      <td>0.34</td>\n",
       "      <td>19.90</td>\n",
       "      <td>0.70</td>\n",
       "    </tr>\n",
       "    <tr>\n",
       "      <th>102</th>\n",
       "      <td>0.413793</td>\n",
       "      <td>0.44</td>\n",
       "      <td>18.24</td>\n",
       "      <td>0.72</td>\n",
       "    </tr>\n",
       "    <tr>\n",
       "      <th>103</th>\n",
       "      <td>0.427746</td>\n",
       "      <td>0.39</td>\n",
       "      <td>20.33</td>\n",
       "      <td>0.74</td>\n",
       "    </tr>\n",
       "    <tr>\n",
       "      <th>104</th>\n",
       "      <td>0.408284</td>\n",
       "      <td>0.03</td>\n",
       "      <td>20.83</td>\n",
       "      <td>0.69</td>\n",
       "    </tr>\n",
       "  </tbody>\n",
       "</table>\n",
       "<p>104 rows × 4 columns</p>\n",
       "</div>"
      ],
      "text/plain": [
       "         WHtR  Visc    BMI  Waist circumference\n",
       "N                                              \n",
       "1    0.432432  0.17  20.13                 0.80\n",
       "2    0.412791  0.46  18.35                 0.71\n",
       "3    0.441860  0.38  22.11                 0.76\n",
       "4    0.452128  0.91  20.46                 0.85\n",
       "5    0.496970  1.17  24.58                 0.82\n",
       "..        ...   ...    ...                  ...\n",
       "100  0.415730  0.01  21.73                 0.74\n",
       "101  0.404624  0.34  19.90                 0.70\n",
       "102  0.413793  0.44  18.24                 0.72\n",
       "103  0.427746  0.39  20.33                 0.74\n",
       "104  0.408284  0.03  20.83                 0.69\n",
       "\n",
       "[104 rows x 4 columns]"
      ]
     },
     "execution_count": 6,
     "metadata": {},
     "output_type": "execute_result"
    }
   ],
   "source": [
    "data"
   ]
  },
  {
   "cell_type": "markdown",
   "metadata": {},
   "source": [
    "a. Train a Linear Regression model which predicts \"Visc\" from \"BMI\", \"Waist circumference\"\n",
    "and WHtR (\"Waist circumference\"/\"Height_value-1\")."
   ]
  },
  {
   "cell_type": "code",
   "execution_count": 7,
   "metadata": {},
   "outputs": [],
   "source": [
    "def split_df (target_name: str, data: pd.DataFrame):\n",
    "    \"\"\" \n",
    "    Split df into random train and test subsets based on target name column\n",
    "\n",
    "    Parameters\n",
    "    ----------\n",
    "    target_name : str\n",
    "        target column name\n",
    "    data : DataFrame\n",
    "        DataFrame  \n",
    "\n",
    "    return\n",
    "    ----------\n",
    "    X_train, X_test, y_train, y_test\n",
    "    \"\"\"\n",
    "    X = data.drop(columns=[target_name])\n",
    "    y = data[target_name].copy()\n",
    "    X_train, X_test, y_train, y_test = train_test_split(X, y, test_size=0.2, random_state=42)\n",
    "    return X_train, X_test, y_train, y_test"
   ]
  },
  {
   "cell_type": "code",
   "execution_count": 8,
   "metadata": {},
   "outputs": [],
   "source": [
    "target_name = \"Visc\"\n",
    "X_train, X_test, y_train, y_test = split_df(target_name, data)\n",
    "reg = LinearRegression().fit(X_train, y_train)\n",
    "y_predicted = reg.predict(X_test)"
   ]
  },
  {
   "cell_type": "markdown",
   "metadata": {},
   "source": [
    "b. Report the root mean squared prediction error (RMSE) on the test set."
   ]
  },
  {
   "cell_type": "code",
   "execution_count": 9,
   "metadata": {},
   "outputs": [
    {
     "name": "stdout",
     "output_type": "stream",
     "text": [
      "The root mean squared prediction error (RMSE) on the test set is 0.3130062066278458.\n"
     ]
    }
   ],
   "source": [
    "rmse = sqrt(mean_squared_error(y_test, y_predicted))\n",
    "print(f\"The root mean squared prediction error (RMSE) on the test set is {rmse}.\")"
   ]
  },
  {
   "cell_type": "markdown",
   "metadata": {},
   "source": [
    "c. Report the estimated coefficient's values."
   ]
  },
  {
   "cell_type": "code",
   "execution_count": 10,
   "metadata": {},
   "outputs": [
    {
     "data": {
      "text/plain": [
       "array([ 4.51595018, -0.07687255,  9.80077941])"
      ]
     },
     "execution_count": 10,
     "metadata": {},
     "output_type": "execute_result"
    }
   ],
   "source": [
    "reg.coef_ #coefficients of the model (without intercept)"
   ]
  },
  {
   "cell_type": "code",
   "execution_count": 11,
   "metadata": {},
   "outputs": [
    {
     "data": {
      "text/plain": [
       "-7.336890748571133"
      ]
     },
     "execution_count": 11,
     "metadata": {},
     "output_type": "execute_result"
    }
   ],
   "source": [
    "reg.intercept_ #intercept of the model"
   ]
  },
  {
   "cell_type": "markdown",
   "metadata": {},
   "source": [
    "d. Plot a scatter plot of the predicted target variable v.s. the actual target variable based on\n",
    "the test set"
   ]
  },
  {
   "cell_type": "code",
   "execution_count": 12,
   "metadata": {},
   "outputs": [
    {
     "data": {
      "image/png": "[encoded data removed]",
      "text/plain": [
       "<Figure size 432x288 with 1 Axes>"
      ]
     },
     "metadata": {
      "needs_background": "light"
     },
     "output_type": "display_data"
    }
   ],
   "source": [
    "_=plt.scatter(y_predicted, y_test, color=\"black\")\n",
    "_=plt.title('Predicted Target Variable vs. Actual Target Variable')\n",
    "_=plt.ylabel(\"Real Values\")\n",
    "_=plt.xlabel(\"Predicted Values\")"
   ]
  },
  {
   "cell_type": "markdown",
   "metadata": {},
   "source": [
    "## Q2"
   ]
  },
  {
   "cell_type": "markdown",
   "metadata": {},
   "source": [
    "a. Train a Linear Regression model which predicts \"Visc\" from \"BMI\", \"Waist circumference\" and WHtR (\"Waist circumference\"/\"Height_value-1\")."
   ]
  },
  {
   "cell_type": "code",
   "execution_count": 13,
   "metadata": {},
   "outputs": [
    {
     "name": "stdout",
     "output_type": "stream",
     "text": [
      "Index(['WHtR', 'BMI', 'Waist circumference'], dtype='object')\n"
     ]
    }
   ],
   "source": [
    "data2 = data.drop(columns=[target_name])\n",
    "columns = data2.columns\n",
    "y = data[target_name].copy()\n",
    "i=0\n",
    "print(columns)\n",
    "for col in columns:\n",
    "    if i==0:\n",
    "        join = pd.concat([y,pd.get_dummies(pd.qcut(data2[col],4), drop_first=True)],axis=1)\n",
    "    else:\n",
    "        join = pd.concat([join,pd.get_dummies(pd.qcut(data2[col],4), drop_first=True)],axis=1)\n",
    "    i=i+1\n",
    "X_train, X_test, y_train, y_test = split_df(target_name, join) #target_name = 'Visc'\n",
    "reg = LinearRegression().fit(X_train, y_train)\n",
    "y_predicted = reg.predict(X_test)"
   ]
  },
  {
   "cell_type": "markdown",
   "metadata": {},
   "source": [
    "b. Report the root mean squared prediction error (RMSE) on the test set."
   ]
  },
  {
   "cell_type": "code",
   "execution_count": 14,
   "metadata": {},
   "outputs": [
    {
     "name": "stdout",
     "output_type": "stream",
     "text": [
      "The root mean squared prediction error (RMSE) on the test set is 0.32589631309766176.\n"
     ]
    }
   ],
   "source": [
    "rmse = sqrt(mean_squared_error(y_test, y_predicted))\n",
    "print(f\"The root mean squared prediction error (RMSE) on the test set is {rmse}.\")"
   ]
  },
  {
   "cell_type": "markdown",
   "metadata": {},
   "source": [
    "c. Report the estimated coefficient's values."
   ]
  },
  {
   "cell_type": "code",
   "execution_count": 15,
   "metadata": {},
   "outputs": [
    {
     "data": {
      "text/plain": [
       "array([ 0.08030516,  0.25181125,  0.64453197, -0.17614824, -0.19818875,\n",
       "        0.0110404 ,  0.0093602 ,  0.26553151,  1.25505678])"
      ]
     },
     "execution_count": 15,
     "metadata": {},
     "output_type": "execute_result"
    }
   ],
   "source": [
    "reg.coef_ #coefficients of the model (without intercept)"
   ]
  },
  {
   "cell_type": "code",
   "execution_count": null,
   "metadata": {},
   "outputs": [],
   "source": [
    "reg.intercept_ #intercept of the model"
   ]
  },
  {
   "cell_type": "markdown",
   "metadata": {},
   "source": [
    "d. Plot a scatter plot of the predicted target variable v.s. the actual target variable based on the test set"
   ]
  },
  {
   "cell_type": "code",
   "execution_count": 16,
   "metadata": {},
   "outputs": [
    {
     "data": {
      "image/png": "[encoded data removed]",
      "text/plain": [
       "<Figure size 432x288 with 1 Axes>"
      ]
     },
     "metadata": {
      "needs_background": "light"
     },
     "output_type": "display_data"
    }
   ],
   "source": [
    "_=plt.scatter(y_predicted, y_test, color=\"black\")\n",
    "_=plt.title('Predicted Target Variable vs. Actual Target Variable')\n",
    "_=plt.ylabel(\"Real Values\")\n",
    "_=plt.xlabel(\"Predicted Values\")"
   ]
  },
  {
   "cell_type": "markdown",
   "metadata": {},
   "source": [
    "# Q3"
   ]
  },
  {
   "cell_type": "markdown",
   "metadata": {},
   "source": [
    "a. Plot a sctter plot of Visc v.s. WC"
   ]
  },
  {
   "cell_type": "code",
   "execution_count": 17,
   "metadata": {},
   "outputs": [
    {
     "data": {
      "image/png": "[encoded data removed]",
      "text/plain": [
       "<Figure size 432x288 with 1 Axes>"
      ]
     },
     "metadata": {
      "needs_background": "light"
     },
     "output_type": "display_data"
    }
   ],
   "source": [
    "data.plot.scatter(x='Waist circumference', y='Visc')\n",
    "_=plt.title('Visceral Fat Mass vs. Waist Circumference')"
   ]
  },
  {
   "cell_type": "markdown",
   "metadata": {},
   "source": [
    "b. Define two new variables wc1 and wc2 (explanation in instruction's pdf) and train a linear regression model (explanation in instruction's pdf)"
   ]
  },
  {
   "cell_type": "code",
   "execution_count": 18,
   "metadata": {},
   "outputs": [],
   "source": [
    "data3 = data[['Visc','Waist circumference']].copy()\n",
    "\n",
    "wc = data3['Waist circumference']\n",
    "wc1 = wc - 0.78 #calc wc1\n",
    "wc2 = np.where(wc < 0.78, 0, 1) #calc wc2\n",
    "new_var = wc1 * wc2 #calc the new variable\n",
    "\n",
    "data3.insert(0, 'new_var', new_var)\n",
    "\n",
    "X_train, X_test, y_train, y_test = split_df(target_name, data3) #target_name = 'Visc'\n",
    "\n",
    "reg = LinearRegression().fit(X_train, y_train) #fit linear regression model\n",
    "pred = reg.predict(X_test) #get predictions"
   ]
  },
  {
   "cell_type": "markdown",
   "metadata": {},
   "source": [
    "c. Plot the a scatter plot of the predictions on the test set."
   ]
  },
  {
   "cell_type": "code",
   "execution_count": 19,
   "metadata": {},
   "outputs": [
    {
     "data": {
      "image/png": "[encoded data removed]",
      "text/plain": [
       "<Figure size 432x288 with 1 Axes>"
      ]
     },
     "metadata": {
      "needs_background": "light"
     },
     "output_type": "display_data"
    }
   ],
   "source": [
    "#plot a scatter graph of the results\n",
    "plt.scatter(x = pred, y = y_test)\n",
    "_=plt.title('predicted VS actual Visc')\n",
    "_=plt.xlabel('predicted Visc')\n",
    "_=plt.ylabel('actual Visc')"
   ]
  },
  {
   "cell_type": "markdown",
   "metadata": {},
   "source": [
    "# Q4"
   ]
  },
  {
   "cell_type": "markdown",
   "metadata": {},
   "source": [
    "a.Transform the \"Visc\" variable to a binary variable (with the value \"1\" if greater than the\n",
    "median and \"0\" otherwise)."
   ]
  },
  {
   "cell_type": "code",
   "execution_count": 20,
   "metadata": {},
   "outputs": [],
   "source": [
    "visc_median = data.Visc.median()\n",
    "data4 = data[['BMI','Waist circumference', 'WHtR', 'Visc']].copy()\n",
    "data4['Visc'] = np.where(data['Visc']>visc_median, 1, 0)"
   ]
  },
  {
   "cell_type": "markdown",
   "metadata": {},
   "source": [
    "b. Train a Logistic regression model using BMI, WC and WHtR as predictors.\n"
   ]
  },
  {
   "cell_type": "code",
   "execution_count": 21,
   "metadata": {},
   "outputs": [],
   "source": [
    "LX_train, LX_test, Ly_train, Ly_test = split_df(target_name, data4) #target_name = 'Visc'\n",
    "\n",
    "Lreg = LogisticRegression().fit(LX_train, Ly_train) \n",
    "Ly_predicted = Lreg.predict(LX_test)"
   ]
  },
  {
   "cell_type": "markdown",
   "metadata": {},
   "source": [
    "c. Report the AUC on the test set.\n"
   ]
  },
  {
   "cell_type": "code",
   "execution_count": 22,
   "metadata": {},
   "outputs": [
    {
     "name": "stdout",
     "output_type": "stream",
     "text": [
      "The AUC is: 0.7636363636363637\n"
     ]
    }
   ],
   "source": [
    "fpr, tpr, thresholds = metrics.roc_curve(Ly_test, Ly_predicted)\n",
    "print('The AUC is:', metrics.auc(fpr, tpr))"
   ]
  },
  {
   "cell_type": "markdown",
   "metadata": {},
   "source": [
    "d. Based on a 0.5 threshold, print the confusion matrix, the sensitivity and specificity on the\n",
    "test set."
   ]
  },
  {
   "cell_type": "code",
   "execution_count": 23,
   "metadata": {
    "scrolled": true
   },
   "outputs": [
    {
     "name": "stdout",
     "output_type": "stream",
     "text": [
      "confusion matrix:\n"
     ]
    },
    {
     "data": {
      "image/png": "[encoded data removed]",
      "text/plain": [
       "<Figure size 432x288 with 2 Axes>"
      ]
     },
     "metadata": {
      "needs_background": "light"
     },
     "output_type": "display_data"
    }
   ],
   "source": [
    "confusion_matrix(Ly_test, Ly_predicted)\n",
    "\n",
    "conf_matrix = confusion_matrix(Ly_test, Ly_predicted)\n",
    "print('confusion matrix:')\n",
    "\n",
    "disp = plot_confusion_matrix(Lreg,\n",
    "                             LX_test,\n",
    "                             Ly_test,\n",
    "                             cmap=plt.cm.Purples)\n",
    "_ = disp.ax_.set_title(\"Confusion Matrix\")"
   ]
  },
  {
   "cell_type": "code",
   "execution_count": 24,
   "metadata": {},
   "outputs": [
    {
     "data": {
      "image/png": "[encoded data removed]",
      "text/plain": [
       "<Figure size 432x288 with 2 Axes>"
      ]
     },
     "metadata": {
      "needs_background": "light"
     },
     "output_type": "display_data"
    }
   ],
   "source": [
    "disp = plot_confusion_matrix(Lreg,\n",
    "                             LX_test,\n",
    "                             Ly_test,\n",
    "                             cmap=plt.cm.Purples,\n",
    "                             normalize=\"true\")\n",
    "_ = disp.ax_.set_title(\"Normalized Confusion Matrix\")"
   ]
  },
  {
   "cell_type": "code",
   "execution_count": 25,
   "metadata": {},
   "outputs": [],
   "source": [
    "#sensitivity: TP/(TP+FN)\n",
    "#specificity: TN/(TN+FP)\n",
    "\n",
    "TN = conf_matrix[0, 0]\n",
    "TP = conf_matrix[1, 1]\n",
    "FN = conf_matrix[1, 0]\n",
    "FP = conf_matrix[0, 1]\n",
    "\n",
    "sensitivity = TP / (TP + FN)\n",
    "specificity = TN / (TN + FP)\n"
   ]
  },
  {
   "cell_type": "code",
   "execution_count": 26,
   "metadata": {},
   "outputs": [
    {
     "name": "stdout",
     "output_type": "stream",
     "text": [
      "The sensitivity is: 0.7272727272727273\n",
      "The specificity is: 0.8\n"
     ]
    }
   ],
   "source": [
    "print('The sensitivity is:', sensitivity)\n",
    "print('The specificity is:', specificity)"
   ]
  }
 ],
 "metadata": {
  "kernelspec": {
   "display_name": "Python 3",
   "language": "python",
   "name": "python3"
  },
  "language_info": {
   "codemirror_mode": {
    "name": "ipython",
    "version": 3
   },
   "file_extension": ".py",
   "mimetype": "text/x-python",
   "name": "python",
   "nbconvert_exporter": "python",
   "pygments_lexer": "ipython3",
   "version": "3.6.5"
  }
 },
 "nbformat": 4,
 "nbformat_minor": 4
}
